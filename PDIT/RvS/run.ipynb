{
 "cells": [
  {
   "cell_type": "code",
   "execution_count": null,
   "metadata": {
    "vscode": {
     "languageId": "plaintext"
    }
   },
   "outputs": [],
   "source": [
    "from model import CPDIT\n",
    "from utils import evaluate\n",
    "import json\n",
    "import torch\n",
    "\n",
    "with open('config.json') as f:\n",
    "    config = json.load(f)\n",
    "    config['max_len'] = 5\n",
    "    config['use_clip'] = False\n",
    "    \n",
    "model = CPDIT(config)\n",
    "model.load_state_dict(torch.load('weights11', map_location=torch.device('cpu')))"
   ]
  },
  {
   "cell_type": "code",
   "execution_count": null,
   "metadata": {
    "vscode": {
     "languageId": "plaintext"
    }
   },
   "outputs": [],
   "source": [
    "x = {'go': 1,\n",
    " 'to': 2,\n",
    " 'the': 3,\n",
    " 'blue': 4,\n",
    " 'key': 5,\n",
    " 'red': 6,\n",
    " 'box': 7,\n",
    " 'a': 8,\n",
    " 'yellow': 9,\n",
    " 'ball': 10,\n",
    " 'purple': 11,\n",
    " 'grey': 12,\n",
    " 'green': 13\n",
    "}"
   ]
  },
  {
   "cell_type": "code",
   "execution_count": null,
   "metadata": {
    "vscode": {
     "languageId": "plaintext"
    }
   },
   "outputs": [],
   "source": [
    "evaluate(model, 'BabyAI-GoToLocal-v0', config, x)"
   ]
  }
 ],
 "metadata": {
  "language_info": {
   "name": "python"
  }
 },
 "nbformat": 4,
 "nbformat_minor": 2
}
